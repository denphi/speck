{
 "cells": [
  {
   "cell_type": "code",
   "execution_count": 53,
   "metadata": {},
   "outputs": [],
   "source": [
    "import ipyspeck\n",
    "import ipywidgets as w"
   ]
  },
  {
   "cell_type": "code",
   "execution_count": 54,
   "metadata": {},
   "outputs": [
    {
     "data": {
      "application/vnd.jupyter.widget-view+json": {
       "model_id": "178d24aee8914a5e81cad4b3070719e5",
       "version_major": 2,
       "version_minor": 0
      },
      "text/plain": [
       "HBox(children=(Speck(), Speck()))"
      ]
     },
     "metadata": {},
     "output_type": "display_data"
    }
   ],
   "source": [
    "a = ipyspeck.speck.Speck()\n",
    "b = w.HBox([a,a])\n",
    "b\n"
   ]
  },
  {
   "cell_type": "code",
   "execution_count": 55,
   "metadata": {},
   "outputs": [],
   "source": [
    "b.layout.width=\"100%\"\n",
    "b.layout.height=\"400px\""
   ]
  },
  {
   "cell_type": "code",
   "execution_count": 73,
   "metadata": {},
   "outputs": [],
   "source": [
    "a.data = \"46\\ntestosterone.out\\nC   -4.0599     -2.1760     -0.8224\\nO     -4.9516     -2.8840     -1.2414\\nC     -4.2163     -0.6676     -0.7586\\nC     -2.8826      0.0343     -0.9993\\nC     -2.7857     -2.7158     -0.3131\\nC     -1.7443     -1.9501      0.0575\\nC     -0.5249     -2.5861      0.6659\\nC      0.7827     -1.9356      0.2082\\nC      0.7295     -0.4182      0.4294\\nC      2.0267      0.2733     -0.0072\\nC      3.3706     -0.1900      0.5799\\nC      4.3192      1.0027      0.3273\\nC      3.4317      2.2202     -0.0268\\nO      3.9384      3.3043      0.7679\\nC      1.9714      1.7980      0.3340\\nC      1.7106      2.0852      1.8182\\nC      0.8686      2.4201     -0.5385\\nC     -0.4798      1.7315     -0.2601\\nC     -0.4282      0.1930     -0.4091\\nC     -1.7900     -0.4363     -0.0132\\nH     -2.7575     -3.8052     -0.2565\\nH     -0.6135     -2.5201      1.7733\\nH     -0.4925     -3.6738      0.4451\\nH      1.6336     -2.3732      0.7646\\nH      0.9690     -2.1675     -0.8583\\nH      0.5479     -0.2168      1.5138\\nH      2.1058      0.1678     -1.1210\\nH      3.2853     -0.4094      1.6573\\nH      3.7364     -1.1101      0.0994\\nH      4.9267      1.2382      1.2217\\nH      5.0342      0.7890     -0.4822\\nH      3.5293      2.5237     -1.0880\\nH      3.2906      4.0296      0.8195\\nH      0.8832      1.4797      2.2078\\nH      2.5972      1.8604      2.4268\\nH      1.4613      3.1361      1.9910\\nH      0.7818      3.5044     -0.3452\\nH      1.1247      2.3262     -1.6107\\nH     -0.8205      1.9959      0.7596\\nH     -1.2411      2.1442     -0.9502\\nH     -0.2361     -0.0466     -1.4843\\nH     -4.6390     -0.3984      0.2304\\nH     -4.9734     -0.3373     -1.4982\\nH     -2.5493     -0.1544     -2.0405\\nH     -3.0184      1.1303     -0.9178\\nH     -2.0604     -0.0823      1.0166\\n\"\n"
   ]
  },
  {
   "cell_type": "code",
   "execution_count": 51,
   "metadata": {},
   "outputs": [],
   "source": [
    "a.bonds = True"
   ]
  },
  {
   "cell_type": "code",
   "execution_count": 31,
   "metadata": {},
   "outputs": [],
   "source": [
    "a.atomScale = 0.35"
   ]
  },
  {
   "cell_type": "code",
   "execution_count": 35,
   "metadata": {},
   "outputs": [],
   "source": [
    "a.bondScale = 0.5"
   ]
  },
  {
   "cell_type": "code",
   "execution_count": 65,
   "metadata": {},
   "outputs": [],
   "source": [
    "a.bondThreshold = 1.2"
   ]
  },
  {
   "cell_type": "code",
   "execution_count": 80,
   "metadata": {},
   "outputs": [],
   "source": [
    "a.outline = 0"
   ]
  },
  {
   "cell_type": "code",
   "execution_count": null,
   "metadata": {},
   "outputs": [],
   "source": []
  }
 ],
 "metadata": {
  "kernelspec": {
   "display_name": "Python 3",
   "language": "python",
   "name": "python3"
  },
  "language_info": {
   "codemirror_mode": {
    "name": "ipython",
    "version": 3
   },
   "file_extension": ".py",
   "mimetype": "text/x-python",
   "name": "python",
   "nbconvert_exporter": "python",
   "pygments_lexer": "ipython3",
   "version": "3.6.8"
  }
 },
 "nbformat": 4,
 "nbformat_minor": 2
}
