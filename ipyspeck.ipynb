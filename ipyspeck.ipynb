{
 "cells": [
  {
   "cell_type": "code",
   "execution_count": 36,
   "metadata": {},
   "outputs": [],
   "source": [
    "import ipyspeck\n",
    "import ipywidgets as w"
   ]
  },
  {
   "cell_type": "code",
   "execution_count": 37,
   "metadata": {},
   "outputs": [],
   "source": [
    "pdb1='''ATOM      1    H UNK A   1       0.976   2.427   0.000\n",
    "ATOM      2    C UNK A   1       0.975   2.427   1.089\n",
    "ATOM      3    C UNK A   1       2.166   1.655   1.663\n",
    "ATOM      4    C UNK A   1       2.166   1.655   3.198\n",
    "ATOM      5    H UNK A   1       1.029   3.437   1.497\n",
    "ATOM      6    H UNK A   1       0.039   2.048   1.498\n",
    "ATOM      7    H UNK A   1       3.066   2.115   1.254\n",
    "ATOM      8    H UNK A   1       2.064   0.624   1.326\n",
    "ATOM      9    C UNK A   1       0.902   1.010   3.772\n",
    "ATOM     10    C UNK A   1       0.903   1.010   5.306\n",
    "ATOM     11    H UNK A   1       3.013   1.104   3.606\n",
    "ATOM     12    H UNK A   1       2.306   2.656   3.606\n",
    "ATOM     13    H UNK A   1       0.850   0.000   3.362\n",
    "ATOM     14    H UNK A   1       0.060   1.614   3.434\n",
    "ATOM     15    C UNK A   1       0.975   2.427   5.879\n",
    "ATOM     16    C UNK A   1       0.975   2.427   7.415\n",
    "ATOM     17    H UNK A   1       0.001   0.552   5.714\n",
    "ATOM     18    H UNK A   1       1.700   0.389   5.715\n",
    "ATOM     19    H UNK A   1       0.128   2.976   5.471\n",
    "ATOM     20    H UNK A   1       1.919   2.855   5.543\n",
    "ATOM     21    C UNK A   1       2.166   1.655   7.988\n",
    "ATOM     22    C UNK A   1       2.166   1.655   9.523\n",
    "ATOM     23    H UNK A   1       1.029   3.437   7.822'''"
   ]
  },
  {
   "cell_type": "code",
   "execution_count": 38,
   "metadata": {},
   "outputs": [],
   "source": [
    "pdb2 = '''ATOM      1    H UNK A   1       0.976   2.427   0.000\n",
    "ATOM      2    C UNK A   1       0.975   2.427   1.089\n",
    "ATOM      3    C UNK A   1       2.166   1.655   1.663\n",
    "ATOM      4    C UNK A   1       2.166   1.655   3.198\n",
    "ATOM      5    H UNK A   1       1.029   3.437   1.497\n",
    "ATOM      6    H UNK A   1       0.039   2.048   1.498\n",
    "ATOM      7    H UNK A   1       3.066   2.115   1.254\n",
    "ATOM      8    H UNK A   1       2.064   0.624   1.326\n",
    "ATOM      9    C UNK A   1       0.902   1.010   3.772\n",
    "ATOM     10    C UNK A   1       0.903   1.010   5.306\n",
    "ATOM     11    H UNK A   1       3.013   1.104   3.606\n",
    "ATOM     12    H UNK A   1       2.306   2.656   3.606\n",
    "ATOM     13    H UNK A   1       0.850   0.000   3.362\n",
    "ATOM     14    H UNK A   1       0.060   1.614   3.434\n",
    "ATOM     15    C UNK A   1       0.975   2.427   5.879\n",
    "ATOM     16    C UNK A   1       0.975   2.427   7.415\n",
    "ATOM     17    H UNK A   1       0.001   0.552   5.714\n",
    "ATOM     18    H UNK A   1       1.700   0.389   5.715\n",
    "ATOM     19    H UNK A   1       0.128   2.976   5.471\n",
    "ATOM     20    H UNK A   1       1.919   2.855   5.543\n",
    "ATOM     21    C UNK A   1       2.166   1.655   7.988\n",
    "ATOM     22    C UNK A   1       2.166   1.655   9.523\n",
    "ATOM     23    H UNK A   1       1.029   3.437   7.822\n",
    "ATOM     24    H UNK A   1       0.039   2.047   7.823\n",
    "ATOM     25    H UNK A   1       3.065   2.114   7.579\n",
    "ATOM     26    H UNK A   1       2.064   0.623   7.651\n",
    "ATOM     27    C UNK A   1       0.903   1.010  10.096\n",
    "ATOM     28    C UNK A   1       0.902   1.009  11.631\n",
    "ATOM     29    H UNK A   1       3.014   1.104   9.930\n",
    "ATOM     30    H UNK A   1       2.305   2.656   9.931\n",
    "ATOM     31    H UNK A   1       0.850   0.001   9.688\n",
    "ATOM     32    H UNK A   1       0.059   1.613   9.760\n",
    "ATOM     33    C UNK A   1       0.975   2.427  12.205\n",
    "ATOM     34    C UNK A   1       0.975   2.427  13.739\n",
    "ATOM     35    H UNK A   1       0.000   0.551  12.039\n",
    "ATOM     36    H UNK A   1       1.699   0.389  12.039\n",
    "ATOM     37    H UNK A   1       0.128   2.976  11.795\n",
    "ATOM     38    H UNK A   1       1.919   2.854  11.868\n",
    "ATOM     39    C UNK A   1       2.166   1.655  14.313\n",
    "ATOM     40    C UNK A   1       2.166   1.655  15.848\n",
    "ATOM     41    H UNK A   1       1.028   3.436  14.147\n",
    "ATOM     42    H UNK A   1       0.038   2.047  14.147\n",
    "ATOM     43    H UNK A   1       3.066   2.115  13.904\n",
    "ATOM     44    H UNK A   1       2.064   0.624  13.977\n",
    "ATOM     45    C UNK A   1       0.902   1.010  16.422\n",
    "ATOM     46    C UNK A   1       0.902   1.010  17.957\n",
    "ATOM     47    H UNK A   1       3.014   1.103  16.256\n",
    "ATOM     48    H UNK A   1       2.305   2.656  16.256\n",
    "ATOM     49    H UNK A   1       0.850   0.001  16.012\n",
    "ATOM     50    H UNK A   1       0.060   1.614  16.085\n",
    "ATOM     51    C UNK A   1       0.975   2.427  18.530\n",
    "ATOM     52    C UNK A   1       0.975   2.427  20.065\n",
    "ATOM     53    H UNK A   1       0.001   0.551  18.364\n",
    "ATOM     54    H UNK A   1       1.699   0.389  18.365\n",
    "ATOM     55    H UNK A   1       0.127   2.976  18.121\n",
    "ATOM     56    H UNK A   1       1.919   2.854  18.193\n",
    "ATOM     57    C UNK A   1       2.165   1.655  20.638\n",
    "ATOM     58    C UNK A   1       2.166   1.655  22.174\n",
    "ATOM     59    H UNK A   1       1.029   3.437  20.473\n",
    "ATOM     60    H UNK A   1       0.039   2.047  20.473\n",
    "ATOM     61    H UNK A   1       3.065   2.114  20.229\n",
    "ATOM     62    H UNK A   1       2.064   0.624  20.301\n",
    "ATOM     63    C UNK A   1       0.902   1.010  22.747\n",
    "ATOM     64    C UNK A   1       0.903   1.010  24.281\n",
    "ATOM     65    H UNK A   1       3.013   1.104  22.581\n",
    "ATOM     66    H UNK A   1       2.305   2.656  22.581\n",
    "ATOM     67    H UNK A   1       0.850   0.001  22.338\n",
    "ATOM     68    H UNK A   1       0.060   1.613  22.410\n",
    "ATOM     69    C UNK A   1       0.975   2.426  24.855\n",
    "ATOM     70    C UNK A   1       0.975   2.427  26.390\n",
    "ATOM     71    H UNK A   1       0.001   0.551  24.689\n",
    "ATOM     72    H UNK A   1       1.699   0.389  24.689\n",
    "ATOM     73    H UNK A   1       0.128   2.976  24.446\n",
    "ATOM     74    H UNK A   1       1.919   2.854  24.519\n",
    "ATOM     75    C UNK A   1       2.166   1.655  26.964\n",
    "ATOM     76    C UNK A   1       2.166   1.655  28.498\n",
    "ATOM     77    H UNK A   1       1.029   3.437  26.797\n",
    "ATOM     78    H UNK A   1       0.039   2.047  26.798\n",
    "ATOM     79    H UNK A   1       3.066   2.114  26.554\n",
    "ATOM     80    H UNK A   1       2.064   0.623  26.627\n",
    "ATOM     81    C UNK A   1       0.903   1.010  29.072\n",
    "ATOM     82    C UNK A   1       0.902   1.009  30.607\n",
    "ATOM     83    H UNK A   1       3.014   1.104  28.906\n",
    "ATOM     84    H UNK A   1       2.305   2.655  28.907\n",
    "ATOM     85    H UNK A   1       0.850   0.001  28.663\n",
    "ATOM     86    H UNK A   1       0.059   1.613  28.735\n",
    "ATOM     87    C UNK A   1       0.975   2.426  31.180\n",
    "ATOM     88    C UNK A   1       0.975   2.427  32.716\n",
    "ATOM     89    H UNK A   1       0.000   0.551  31.014\n",
    "ATOM     90    H UNK A   1       1.699   0.388  31.015\n",
    "ATOM     91    H UNK A   1       0.127   2.977  30.771\n",
    "ATOM     92    H UNK A   1       1.920   2.854  30.843\n",
    "ATOM     93    C UNK A   1       2.166   1.655  33.288\n",
    "ATOM     94    C UNK A   1       2.166   1.655  34.824\n",
    "ATOM     95    H UNK A   1       1.028   3.437  33.123\n",
    "ATOM     96    H UNK A   1       0.038   2.047  33.123\n",
    "ATOM     97    H UNK A   1       3.066   2.115  32.879\n",
    "ATOM     98    H UNK A   1       2.064   0.624  32.952\n",
    "ATOM     99    C UNK A   1       0.902   1.010  35.397\n",
    "ATOM    100    C UNK A   1       0.902   1.010  36.932\n",
    "ATOM    101    H UNK A   1       3.014   1.103  35.231\n",
    "ATOM    102    H UNK A   1       2.306   2.656  35.231\n",
    "ATOM    103    H UNK A   1       0.850   0.000  34.988\n",
    "ATOM    104    H UNK A   1       0.060   1.614  35.060\n",
    "ATOM    105    C UNK A   1       0.975   2.427  37.505\n",
    "ATOM    106    C UNK A   1       0.975   2.427  39.040\n",
    "ATOM    107    H UNK A   1       0.001   0.551  37.340\n",
    "ATOM    108    H UNK A   1       1.699   0.389  37.340\n",
    "ATOM    109    H UNK A   1       0.127   2.976  37.096\n",
    "ATOM    110    H UNK A   1       1.919   2.855  37.169\n",
    "ATOM    111    C UNK A   1       2.165   1.655  39.614\n",
    "ATOM    112    C UNK A   1       2.166   1.655  41.149\n",
    "ATOM    113    H UNK A   1       1.029   3.437  39.448\n",
    "ATOM    114    H UNK A   1       0.039   2.047  39.448\n",
    "ATOM    115    H UNK A   1       3.065   2.114  39.205\n",
    "ATOM    116    H UNK A   1       2.064   0.623  39.277\n",
    "ATOM    117    C UNK A   1       0.902   1.009  41.722\n",
    "ATOM    118    C UNK A   1       0.902   1.009  43.257\n",
    "ATOM    119    H UNK A   1       3.013   1.104  41.556\n",
    "ATOM    120    H UNK A   1       2.305   2.656  41.556\n",
    "ATOM    121    H UNK A   1       0.850   0.001  41.313\n",
    "ATOM    122    H UNK A   1       0.060   1.613  41.385\n",
    "ATOM    123    C UNK A   1       0.975   2.426  43.830\n",
    "ATOM    124    C UNK A   1       0.974   2.426  45.366\n",
    "ATOM    125    H UNK A   1       0.001   0.551  43.664\n",
    "ATOM    126    H UNK A   1       1.699   0.388  43.665\n",
    "ATOM    127    H UNK A   1       0.128   2.976  43.422\n",
    "ATOM    128    H UNK A   1       1.919   2.854  43.494\n",
    "ATOM    129    C UNK A   1       2.166   1.655  45.939\n",
    "ATOM    130    C UNK A   1       2.165   1.655  47.474\n",
    "ATOM    131    H UNK A   1       1.028   3.436  45.773\n",
    "ATOM    132    H UNK A   1       0.038   2.047  45.773\n",
    "ATOM    133    H UNK A   1       3.066   2.114  45.529\n",
    "ATOM    134    H UNK A   1       2.064   0.623  45.602\n",
    "ATOM    135    C UNK A   1       0.902   1.010  48.047\n",
    "ATOM    136    C UNK A   1       0.902   1.009  49.582\n",
    "ATOM    137    H UNK A   1       3.014   1.103  47.881\n",
    "ATOM    138    H UNK A   1       2.305   2.655  47.882\n",
    "ATOM    139    H UNK A   1       0.850   0.001  47.638\n",
    "ATOM    140    H UNK A   1       0.059   1.613  47.710\n",
    "ATOM    141    C UNK A   1       0.974   2.427  50.156\n",
    "ATOM    142    C UNK A   1       0.975   2.427  51.691\n",
    "ATOM    143    H UNK A   1       0.000   0.551  49.990\n",
    "ATOM    144    H UNK A   1       1.699   0.388  49.990\n",
    "ATOM    145    H UNK A   1       0.127   2.976  49.746\n",
    "ATOM    146    H UNK A   1       1.920   2.854  49.819\n",
    "ATOM    147    C UNK A   1       2.165   1.655  52.264\n",
    "ATOM    148    C UNK A   1       2.166   1.655  53.799\n",
    "ATOM    149    H UNK A   1       1.028   3.437  52.098\n",
    "ATOM    150    H UNK A   1       0.038   2.046  52.098\n",
    "ATOM    151    H UNK A   1       3.065   2.114  51.855\n",
    "ATOM    152    H UNK A   1       2.064   0.624  51.928\n",
    "ATOM    153    C UNK A   1       0.902   1.010  54.372\n",
    "ATOM    154    C UNK A   1       0.902   1.009  55.908\n",
    "ATOM    155    H UNK A   1       3.013   1.103  54.206\n",
    "ATOM    156    H UNK A   1       2.306   2.656  54.206\n",
    "ATOM    157    H UNK A   1       0.850   0.000  53.963\n",
    "ATOM    158    H UNK A   1       0.060   1.613  54.036\n",
    "ATOM    159    C UNK A   1       0.975   2.426  56.481\n",
    "ATOM    160    C UNK A   1       0.975   2.427  58.016\n",
    "ATOM    161    H UNK A   1       0.001   0.551  56.315\n",
    "ATOM    162    H UNK A   1       1.699   0.389  56.315\n",
    "ATOM    163    H UNK A   1       0.127   2.976  56.072\n",
    "ATOM    164    H UNK A   1       1.919   2.854  56.144\n",
    "ATOM    165    C UNK A   1       2.165   1.654  58.589\n",
    "ATOM    166    C UNK A   1       2.166   1.654  60.124\n",
    "ATOM    167    H UNK A   1       1.029   3.436  58.424\n",
    "ATOM    168    H UNK A   1       0.039   2.047  58.424\n",
    "ATOM    169    H UNK A   1       3.065   2.114  58.180\n",
    "ATOM    170    H UNK A   1       2.064   0.623  58.252\n",
    "ATOM    171    C UNK A   1       0.902   1.009  60.698\n",
    "ATOM    172    C UNK A   1       0.902   1.009  62.232\n",
    "ATOM    173    H UNK A   1       3.013   1.103  60.532\n",
    "ATOM    174    H UNK A   1       2.305   2.655  60.532\n",
    "ATOM    175    H UNK A   1       0.850   0.001  60.288\n",
    "ATOM    176    H UNK A   1       0.059   1.613  60.360\n",
    "ATOM    177    C UNK A   1       0.975   2.426  62.806\n",
    "ATOM    178    C UNK A   1       0.974   2.426  64.341\n",
    "ATOM    179    H UNK A   1       0.000   0.551  62.640\n",
    "ATOM    180    H UNK A   1       1.699   0.388  62.641\n",
    "ATOM    181    H UNK A   1       0.128   2.975  62.397\n",
    "ATOM    182    H UNK A   1       1.919   2.854  62.469\n",
    "ATOM    183    C UNK A   1       2.166   1.655  64.915\n",
    "ATOM    184    C UNK A   1       2.165   1.655  66.449\n",
    "ATOM    185    H UNK A   1       1.028   3.436  64.748\n",
    "ATOM    186    H UNK A   1       0.038   2.047  64.748\n",
    "ATOM    187    H UNK A   1       3.066   2.114  64.506\n",
    "ATOM    188    H UNK A   1       2.063   0.623  64.577\n",
    "ATOM    189    C UNK A   1       0.902   1.010  67.022\n",
    "ATOM    190    C UNK A   1       0.902   1.010  68.558\n",
    "ATOM    191    H UNK A   1       3.014   1.103  66.856\n",
    "ATOM    192    H UNK A   1       2.305   2.655  66.857\n",
    "ATOM    193    H UNK A   1       0.849   0.000  66.614\n",
    "ATOM    194    H UNK A   1       0.060   1.613  66.686\n",
    "ATOM    195    C UNK A   1       0.975   2.426  69.131\n",
    "ATOM    196    C UNK A   1       0.975   2.427  70.666\n",
    "ATOM    197    H UNK A   1       0.000   0.550  68.965\n",
    "ATOM    198    H UNK A   1       1.699   0.388  68.965\n",
    "ATOM    199    H UNK A   1       0.127   2.976  68.722\n",
    "ATOM    200    H UNK A   1       1.919   2.854  68.794\n",
    "ATOM    201    C UNK A   1       2.165   1.654  71.239\n",
    "ATOM    202    C UNK A   1       2.166   1.655  72.774\n",
    "ATOM    203    H UNK A   1       1.028   3.437  71.074\n",
    "ATOM    204    H UNK A   1       0.039   2.047  71.074\n",
    "ATOM    205    H UNK A   1       3.065   2.114  70.830\n",
    "ATOM    206    H UNK A   1       2.064   0.623  70.903\n",
    "ATOM    207    C UNK A   1       0.902   1.009  73.348\n",
    "ATOM    208    C UNK A   1       0.901   1.009  74.883\n",
    "ATOM    209    H UNK A   1       3.013   1.104  73.182\n",
    "ATOM    210    H UNK A   1       2.305   2.655  73.183\n",
    "ATOM    211    H UNK A   1       0.850   0.000  72.938\n",
    "ATOM    212    H UNK A   1       0.060   1.613  73.011\n",
    "ATOM    213    C UNK A   1       0.975   2.426  75.457\n",
    "ATOM    214    C UNK A   1       0.975   2.426  76.991\n",
    "ATOM    215    H UNK A   1       0.001   0.551  75.290\n",
    "ATOM    216    H UNK A   1       1.698   0.388  75.291\n",
    "ATOM    217    H UNK A   1       0.127   2.976  75.047\n",
    "ATOM    218    H UNK A   1       1.919   2.854  75.119\n",
    "ATOM    219    C UNK A   1       2.165   1.655  77.565\n",
    "ATOM    220    C UNK A   1       2.166   1.654  79.100\n",
    "ATOM    221    H UNK A   1       1.029   3.436  77.399\n",
    "ATOM    222    H UNK A   1       0.039   2.047  77.399\n",
    "ATOM    223    H UNK A   1       3.065   2.114  77.156\n",
    "ATOM    224    H UNK A   1       2.064   0.623  77.227\n",
    "ATOM    225    C UNK A   1       0.902   1.009  79.673\n",
    "ATOM    226    C UNK A   1       0.902   1.009  81.208\n",
    "ATOM    227    H UNK A   1       3.014   1.103  79.507\n",
    "ATOM    228    H UNK A   1       2.305   2.655  79.507\n",
    "ATOM    229    H UNK A   1       0.850   0.000  79.264\n",
    "ATOM    230    H UNK A   1       0.059   1.613  79.336\n",
    "ATOM    231    C UNK A   1       0.975   2.426  81.781\n",
    "ATOM    232    C UNK A   1       0.975   2.427  83.317\n",
    "ATOM    233    H UNK A   1       0.000   0.550  81.615\n",
    "ATOM    234    H UNK A   1       1.699   0.388  81.615\n",
    "ATOM    235    H UNK A   1       0.127   2.976  81.373\n",
    "ATOM    236    H UNK A   1       1.919   2.854  81.445\n",
    "ATOM    237    C UNK A   1       2.166   1.655  83.890\n",
    "ATOM    238    H UNK A   1       2.165   1.654  84.979\n",
    "ATOM    239    H UNK A   1       1.028   3.437  83.724\n",
    "ATOM    240    H UNK A   1       0.038   2.046  83.725\n",
    "ATOM    241    H UNK A   1       3.066   2.114  83.481\n",
    "ATOM    242    H UNK A   1       2.063   0.623  83.553\n",
    "TER     243\n",
    "'''"
   ]
  },
  {
   "cell_type": "code",
   "execution_count": 39,
   "metadata": {},
   "outputs": [],
   "source": [
    "import openbabel\n",
    "obConversion = openbabel.OBConversion()\n",
    "obConversion.SetInAndOutFormats(\"pdb\", \"xyz\")\n",
    "mol1 = openbabel.OBMol()\n",
    "obConversion.ReadString(mol1, pdb1)\n",
    "data1 = obConversion.WriteString(mol1)\n",
    "mol2 = openbabel.OBMol()\n",
    "obConversion.ReadString(mol2, pdb2)\n",
    "data2 = obConversion.WriteString(mol2)"
   ]
  },
  {
   "cell_type": "code",
   "execution_count": 40,
   "metadata": {},
   "outputs": [
    {
     "data": {
      "application/vnd.jupyter.widget-view+json": {
       "model_id": "eb6b10148aa9498184bd448db705e6aa",
       "version_major": 2,
       "version_minor": 0
      },
      "text/plain": [
       "HBox(children=(Speck(data='23\\n\\nH          0.97600        2.42700        0.00000\\nC          0.97500        2…"
      ]
     },
     "metadata": {},
     "output_type": "display_data"
    }
   ],
   "source": [
    "a1 = ipyspeck.speck.Speck(data=data1)\n",
    "a2 = ipyspeck.speck.Speck(data=data2)\n",
    "b = w.HBox([a1,a2], layout=w.Layout(width=\"100%\", height=\"500px\"))\n",
    "b"
   ]
  },
  {
   "cell_type": "code",
   "execution_count": 41,
   "metadata": {},
   "outputs": [],
   "source": [
    "a1.bonds = True"
   ]
  },
  {
   "cell_type": "code",
   "execution_count": 47,
   "metadata": {},
   "outputs": [],
   "source": [
    "a1.setAtomsColor({'H':[1,0,1], 'C':[1,1,0]})"
   ]
  },
  {
   "cell_type": "code",
   "execution_count": null,
   "metadata": {},
   "outputs": [],
   "source": [
    "a1.atomScale = 0.35"
   ]
  },
  {
   "cell_type": "code",
   "execution_count": null,
   "metadata": {},
   "outputs": [],
   "source": [
    "a1.bondScale = 0.5"
   ]
  },
  {
   "cell_type": "code",
   "execution_count": null,
   "metadata": {},
   "outputs": [],
   "source": [
    "a1.bondThreshold = 1.2"
   ]
  },
  {
   "cell_type": "code",
   "execution_count": null,
   "metadata": {},
   "outputs": [],
   "source": [
    "a1.outline = 0"
   ]
  },
  {
   "cell_type": "code",
   "execution_count": null,
   "metadata": {},
   "outputs": [],
   "source": [
    "a1.brightness = 0.5"
   ]
  },
  {
   "cell_type": "code",
   "execution_count": null,
   "metadata": {},
   "outputs": [],
   "source": [
    "a1.dofPosition = 0.5"
   ]
  },
  {
   "cell_type": "code",
   "execution_count": null,
   "metadata": {},
   "outputs": [],
   "source": [
    "a1.dofStrength = 2"
   ]
  },
  {
   "cell_type": "code",
   "execution_count": null,
   "metadata": {},
   "outputs": [],
   "source": [
    "a1.topview()\n",
    "a2.rightview()"
   ]
  },
  {
   "cell_type": "code",
   "execution_count": null,
   "metadata": {},
   "outputs": [],
   "source": [
    "H20='''3\n",
    "Water molecule\n",
    "O          0.00000        0.00000        0.11779\n",
    "H          0.00000        0.75545       -0.47116\n",
    "H          0.00000       -0.75545       -0.47116'''\n",
    "h2o = ipyspeck.speck.Speck(data=H20)\n",
    "h2o"
   ]
  },
  {
   "cell_type": "code",
   "execution_count": null,
   "metadata": {},
   "outputs": [],
   "source": [
    "c = w.Box([h2o], layout=w.Layout(width=\"600px\",height=\"400px\"))\n",
    "c"
   ]
  },
  {
   "cell_type": "code",
   "execution_count": null,
   "metadata": {},
   "outputs": [],
   "source": [
    "#Modify atoms size\n",
    "h2o.atomScale = 0.3\n",
    "#change bonds size\n",
    "h2o.bondScale = 0.3"
   ]
  },
  {
   "cell_type": "code",
   "execution_count": null,
   "metadata": {},
   "outputs": [],
   "source": [
    "import openbabel\n",
    "import requests\n",
    "url = \"https://files.rcsb.org/ligands/view/CO2_ideal.sdf\"\n",
    "r = requests.get(url)\n",
    "obConversion = openbabel.OBConversion()\n",
    "obConversion.SetInAndOutFormats(\"sdf\", \"xyz\")\n",
    "mol = openbabel.OBMol()\n",
    "obConversion.ReadString(mol, r.text)\n",
    "co2 = obConversion.WriteString(mol)\n",
    "ipyspeck.speck.Speck(data=co2)\n"
   ]
  },
  {
   "cell_type": "code",
   "execution_count": null,
   "metadata": {},
   "outputs": [],
   "source": []
  },
  {
   "cell_type": "code",
   "execution_count": null,
   "metadata": {},
   "outputs": [],
   "source": [
    "help(w.DOMWidget.send)"
   ]
  },
  {
   "cell_type": "code",
   "execution_count": null,
   "metadata": {},
   "outputs": [],
   "source": []
  }
 ],
 "metadata": {
  "kernelspec": {
   "display_name": "Python 3",
   "language": "python",
   "name": "python3"
  },
  "language_info": {
   "codemirror_mode": {
    "name": "ipython",
    "version": 3
   },
   "file_extension": ".py",
   "mimetype": "text/x-python",
   "name": "python",
   "nbconvert_exporter": "python",
   "pygments_lexer": "ipython3",
   "version": "3.6.8"
  }
 },
 "nbformat": 4,
 "nbformat_minor": 2
}
